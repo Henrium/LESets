{
 "cells": [
  {
   "cell_type": "code",
   "execution_count": null,
   "metadata": {},
   "outputs": [],
   "source": [
    "import pickle\n",
    "import numpy as np\n",
    "import pandas as pd\n",
    "from sklearn.model_selection import train_test_split, GridSearchCV\n",
    "from sklearn.metrics import mean_absolute_error, r2_score\n",
    "from scipy.stats import spearmanr"
   ]
  },
  {
   "cell_type": "markdown",
   "metadata": {},
   "source": [
    "Hyperparameter tuning: with `X_cv` and `y_cv`, once for every model.\n",
    "\n",
    "Evaluation: randomly split `X_rest` and `y_rest` to train and test sets."
   ]
  },
  {
   "cell_type": "code",
   "execution_count": null,
   "metadata": {},
   "outputs": [],
   "source": [
    "prop = 'bulk'\n",
    "with open('../data/ds_hea_{}.pkl'.format(prop), 'rb') as f:\n",
    "    data = pickle.load(f)\n",
    "result_path = 'conventional_results/{}/'.format(prop)\n",
    "\n",
    "predictors = np.stack([np.concatenate(dp[0]) for dp in data])\n",
    "response = np.array([dp[1] for dp in data])\n",
    "\n",
    "X_rest, X_cv, y_rest, y_cv = train_test_split(predictors, response, test_size=0.4, random_state=42)"
   ]
  },
  {
   "cell_type": "markdown",
   "metadata": {},
   "source": [
    "Random Forest"
   ]
  },
  {
   "cell_type": "code",
   "execution_count": null,
   "metadata": {},
   "outputs": [],
   "source": [
    "from sklearn.ensemble import RandomForestRegressor\n",
    "\n",
    "parameters = {\n",
    "    'n_estimators': [50, 100, 200],\n",
    "    'max_depth': [None, 30, 100],\n",
    "    'min_samples_split': [2, 5, 10],\n",
    "    'min_samples_leaf': [1, 2, 4],\n",
    "    'max_features': [None, 'sqrt', 'log2']\n",
    "}\n",
    "\n",
    "rf = RandomForestRegressor()\n",
    "rf_cv = GridSearchCV(rf, parameters, n_jobs=-1, verbose=2)\n",
    "rf_cv.fit(X_cv, y_cv)\n",
    "rf_cv.best_params_"
   ]
  },
  {
   "cell_type": "code",
   "execution_count": null,
   "metadata": {},
   "outputs": [],
   "source": [
    "spearman_rs = []\n",
    "mae_scores = []\n",
    "r2_scores = []\n",
    "target_results = []\n",
    "predicted_results = []\n",
    "\n",
    "for i in range(30):\n",
    "  X_train, X_test, y_train, y_test = train_test_split(X_rest, y_rest, test_size=1/3, random_state=i)\n",
    "\n",
    "  rf = RandomForestRegressor(\n",
    "     n_estimators=200,\n",
    "     max_depth=30,\n",
    "     min_samples_split=2,\n",
    "     min_samples_leaf=1,\n",
    "     max_features=None,\n",
    "  ).fit(X_train, y_train)\n",
    "\n",
    "  y_pred = rf.predict(X_test)\n",
    "  rs = spearmanr(y_test, y_pred).correlation\n",
    "  mae = mean_absolute_error(y_test, y_pred)\n",
    "  r2 = r2_score(y_test, y_pred)\n",
    "\n",
    "  spearman_rs.append(rs)\n",
    "  mae_scores.append(mae)\n",
    "  r2_scores.append(r2)\n",
    "  target_results.extend(y_test)\n",
    "  predicted_results.extend(y_pred)\n",
    "\n",
    "print(\"Average Spearman correlation:\", np.mean(spearman_rs))\n",
    "print(\"Average Mean absolute error:\", np.mean(mae_scores))\n",
    "print(\"Average R2 score:\", np.mean(r2_scores))\n",
    "\n",
    "results_df = pd.DataFrame({\n",
    "    'Spearman': spearman_rs,\n",
    "    'MAE': mae_scores,\n",
    "    'R2': r2_scores\n",
    "})\n",
    "\n",
    "results_tp = pd.DataFrame({'Target': target_results, 'Predicted': predicted_results})\n",
    "\n",
    "results_tp.to_csv(result_path + 'Random_forest_target_predicted.csv', index=False)\n",
    "\n",
    "results_df.to_csv(result_path + 'Random_forest.csv')"
   ]
  },
  {
   "cell_type": "markdown",
   "metadata": {},
   "source": [
    "Gradient Boosting Tree"
   ]
  },
  {
   "cell_type": "code",
   "execution_count": null,
   "metadata": {},
   "outputs": [],
   "source": [
    "from sklearn.ensemble import GradientBoostingRegressor\n",
    "\n",
    "parameters = {\n",
    "    'n_estimators': [50, 100, 200],\n",
    "    'learning_rate': [0.01, 0.1, 0.2],\n",
    "    'max_depth': [3, 5, 7],\n",
    "    'min_samples_split': [2, 5, 10],\n",
    "    'min_samples_leaf': [1, 2, 4],\n",
    "    'max_features': ['sqrt', 'log2', None]\n",
    "}\n",
    "\n",
    "gb = GradientBoostingRegressor()\n",
    "gb_cv = GridSearchCV(gb, parameters, n_jobs=-1, verbose=2)\n",
    "gb_cv.fit(X_cv, y_cv)\n",
    "best_params = gb_cv.best_params_\n",
    "print (best_params)"
   ]
  },
  {
   "cell_type": "code",
   "execution_count": null,
   "metadata": {},
   "outputs": [],
   "source": [
    "spearman_rs = []\n",
    "mae_scores = []\n",
    "r2_scores = []\n",
    "target_results = []\n",
    "predicted_results = []\n",
    "\n",
    "for i in range(30):\n",
    "    X_train, X_test, y_train, y_test = train_test_split(X_rest, y_rest, test_size=1/3, random_state=i)\n",
    "\n",
    "    gb = GradientBoostingRegressor(\n",
    "        n_estimators=100,\n",
    "        learning_rate=0.1,\n",
    "        max_depth=5,\n",
    "        min_samples_split=10,\n",
    "        min_samples_leaf=4,\n",
    "        max_features='sqrt'\n",
    "    ).fit(X_train, y_train)\n",
    "\n",
    "    y_pred = gb.predict(X_test)\n",
    "    rs = spearmanr(y_test, y_pred).correlation\n",
    "    mae = mean_absolute_error(y_test, y_pred)\n",
    "    r2 = r2_score(y_test, y_pred)\n",
    "\n",
    "    spearman_rs.append(rs)\n",
    "    mae_scores.append(mae)\n",
    "    r2_scores.append(r2)\n",
    "    target_results.extend(y_test)\n",
    "    predicted_results.extend(y_pred)\n",
    "\n",
    "print(\"Average Spearman correlation:\", np.mean(spearman_rs))\n",
    "print(\"Average Mean absolute error:\", np.mean(mae_scores))\n",
    "print(\"Average R2 score:\", np.mean(r2_scores))\n",
    "\n",
    "results_tp = pd.DataFrame({'Target': target_results, 'Predicted': predicted_results})\n",
    "\n",
    "results_df = pd.DataFrame({\n",
    "    'Spearman': spearman_rs,\n",
    "    'MAE': mae_scores,\n",
    "    'R2': r2_scores\n",
    "})\n",
    "\n",
    "results_tp.to_csv(result_path + 'Gradient_boost_target_predicted.csv', index=False)\n",
    "results_df.to_csv(result_path + 'Gradient_boosting.csv')"
   ]
  },
  {
   "cell_type": "markdown",
   "metadata": {},
   "source": [
    "Other models: linear/lasso/ridge regression, svm, knn, gaussian process..."
   ]
  },
  {
   "cell_type": "markdown",
   "metadata": {},
   "source": [
    "Lasso Regression "
   ]
  },
  {
   "cell_type": "code",
   "execution_count": null,
   "metadata": {},
   "outputs": [],
   "source": [
    "from sklearn.linear_model import Lasso\n",
    "\n",
    "parameters = {\n",
    "    'alpha': [0.0001, 0.001, 0.01, 0.1, 1.0, 10.0],\n",
    "    'max_iter': [1000, 5000, 10000]\n",
    "}\n",
    "\n",
    "lasso = Lasso()\n",
    "lasso_cv = GridSearchCV(lasso, parameters, n_jobs=-1, verbose=2)\n",
    "lasso_cv.fit(X_cv, y_cv)\n",
    "best_params = lasso_cv.best_params_\n",
    "print (best_params)"
   ]
  },
  {
   "cell_type": "code",
   "execution_count": null,
   "metadata": {},
   "outputs": [],
   "source": [
    "spearman_rs = []\n",
    "mae_scores = []\n",
    "r2_scores = []\n",
    "\n",
    "for i in range(30):\n",
    "    X_train, X_test, y_train, y_test = train_test_split(X_rest, y_rest, test_size=1/3, random_state=i)\n",
    "\n",
    "    lasso = Lasso(\n",
    "        alpha=0.0001,\n",
    "        max_iter=1000,\n",
    "       \n",
    "    ).fit(X_train, y_train)\n",
    "\n",
    "    y_pred = lasso.predict(X_test)\n",
    "    rs = spearmanr(y_test, y_pred).correlation\n",
    "    mae = mean_absolute_error(y_test, y_pred)\n",
    "    r2 = r2_score(y_test, y_pred)\n",
    "\n",
    "    spearman_rs.append(rs)\n",
    "    mae_scores.append(mae)\n",
    "    r2_scores.append(r2)\n",
    "\n",
    "print(\"Average Spearman correlation:\", np.mean(spearman_rs))\n",
    "print(\"Average Mean absolute error:\", np.mean(mae_scores))\n",
    "print(\"Average R2 score:\", np.mean(r2_scores))\n",
    "\n",
    "lasso_results_df = pd.DataFrame({\n",
    "    'Spearman': spearman_rs,\n",
    "    'MAE': mae_scores,\n",
    "    'R2': r2_scores\n",
    "})\n",
    "\n",
    "lasso_results_df.to_csv(result_path + 'Lasso.csv')\n"
   ]
  },
  {
   "cell_type": "markdown",
   "metadata": {},
   "source": [
    "Ridge Regression"
   ]
  },
  {
   "cell_type": "code",
   "execution_count": null,
   "metadata": {},
   "outputs": [],
   "source": [
    "from sklearn.linear_model import Ridge\n",
    "\n",
    "parameters = {\n",
    "    'alpha': [0.001, 0.01, 0.1, 1.0, 10.0, 100.0],\n",
    "    'max_iter': [1000, 5000, 10000, 20000, 30000],\n",
    "}\n",
    "ridge = Ridge()\n",
    "ridge_cv = GridSearchCV(ridge, parameters, n_jobs=-1, verbose=2)\n",
    "ridge_cv.fit(X_cv, y_cv)\n",
    "best_params = ridge_cv.best_params_\n",
    "print (best_params)"
   ]
  },
  {
   "cell_type": "code",
   "execution_count": null,
   "metadata": {},
   "outputs": [],
   "source": [
    "spearman_rs = []\n",
    "mae_scores = []\n",
    "r2_scores = []\n",
    "\n",
    "for i in range(30):\n",
    "    X_train, X_test, y_train, y_test = train_test_split(X_rest, y_rest, test_size=1/3, random_state=i)\n",
    "\n",
    "    ridge = Ridge(\n",
    "        alpha=0.01,\n",
    "        max_iter=1000,\n",
    "    ).fit(X_train, y_train)\n",
    "\n",
    "    y_pred = ridge.predict(X_test)\n",
    "    rs = spearmanr(y_test, y_pred).correlation\n",
    "    mae = mean_absolute_error(y_test, y_pred)\n",
    "    r2 = r2_score(y_test, y_pred)\n",
    "\n",
    "    spearman_rs.append(rs)\n",
    "    mae_scores.append(mae)\n",
    "    r2_scores.append(r2)\n",
    "\n",
    "print(\"Average Spearman correlation (Ridge):\", np.mean(spearman_rs))\n",
    "print(\"Average Mean absolute error (Ridge):\", np.mean(mae_scores))\n",
    "print(\"Average R2 score (Ridge):\", np.mean(r2_scores))\n",
    "\n",
    "ridge_results_df = pd.DataFrame({\n",
    "    'Spearman': spearman_rs,\n",
    "    'MAE': mae_scores,\n",
    "    'R2': r2_scores\n",
    "})\n",
    "\n",
    "ridge_results_df.to_csv(result_path + 'Ridge.csv')\n"
   ]
  },
  {
   "cell_type": "markdown",
   "metadata": {},
   "source": [
    "Support Vector Regression (SVR)"
   ]
  },
  {
   "cell_type": "code",
   "execution_count": null,
   "metadata": {},
   "outputs": [],
   "source": [
    "from sklearn.svm import SVR\n",
    "\n",
    "parameters = {\n",
    "    'gamma': ['scale', 'auto'],\n",
    "    'epsilon': [0.01, 0.1, 0.2, 0.3],\n",
    "    'kernel': ['linear', 'rbf', 'poly', 'sigmoid'],\n",
    "    'max_iter': [5000, 10000],\n",
    "}\n",
    "svr = SVR()\n",
    "svr_cv = GridSearchCV(svr, parameters, n_jobs=-1, verbose=2)\n",
    "svr_cv.fit(X_cv, y_cv)\n",
    "best_params = svr_cv.best_params_\n",
    "\n",
    "print(best_params)"
   ]
  },
  {
   "cell_type": "code",
   "execution_count": null,
   "metadata": {},
   "outputs": [],
   "source": [
    "spearman_rs = []\n",
    "mae_scores = []\n",
    "r2_scores = []\n",
    "\n",
    "for i in range(30):\n",
    "    X_train, X_test, y_train, y_test = train_test_split(X_rest, y_rest, test_size=1/3, random_state=i)\n",
    "\n",
    "    svr = SVR(\n",
    "        gamma='scale',\n",
    "        epsilon=0.3,\n",
    "        kernel='linear',\n",
    "        max_iter=5000\n",
    "    ).fit(X_train, y_train)\n",
    "\n",
    "    y_pred = svr.predict(X_test)\n",
    "    rs = spearmanr(y_test, y_pred).correlation\n",
    "    mae = mean_absolute_error(y_test, y_pred)\n",
    "    r2 = r2_score(y_test, y_pred)\n",
    "\n",
    "    spearman_rs.append(rs)\n",
    "    mae_scores.append(mae)\n",
    "    r2_scores.append(r2)\n",
    "\n",
    "print(\"Average Spearman correlation (SVR):\", np.mean(spearman_rs))\n",
    "print(\"Average Mean absolute error (SVR):\", np.mean(mae_scores))\n",
    "print(\"Average R2 score (SVR):\", np.mean(r2_scores))\n",
    "\n",
    "svr_results_df = pd.DataFrame({\n",
    "    'Spearman': spearman_rs,\n",
    "    'MAE': mae_scores,\n",
    "    'R2': r2_scores\n",
    "})\n",
    "\n",
    "svr_results_df.to_csv(result_path + 'SVM.csv')"
   ]
  },
  {
   "cell_type": "markdown",
   "metadata": {},
   "source": [
    "k-nearest neighbors (KNN)"
   ]
  },
  {
   "cell_type": "code",
   "execution_count": null,
   "metadata": {},
   "outputs": [],
   "source": [
    "from sklearn.neighbors import KNeighborsRegressor\n",
    "\n",
    "parameters = {\n",
    "    'n_neighbors': [3, 5, 7, 10, 15],\n",
    "    'weights': ['uniform', 'distance'],\n",
    "    'algorithm': ['auto', 'ball_tree', 'kd_tree', 'brute'],\n",
    "    'leaf_size': [20, 30, 40, 50]\n",
    "}\n",
    "\n",
    "knn = KNeighborsRegressor()\n",
    "knn_cv = GridSearchCV(knn, parameters, n_jobs=-1, verbose=2)\n",
    "knn_cv.fit(X_cv, y_cv)\n",
    "best_params = knn_cv.best_params_\n",
    "\n",
    "print(best_params)"
   ]
  },
  {
   "cell_type": "code",
   "execution_count": null,
   "metadata": {},
   "outputs": [],
   "source": [
    "spearman_rs = []\n",
    "mae_scores = []\n",
    "r2_scores = []\n",
    "\n",
    "for i in range(30):\n",
    "    X_train, X_test, y_train, y_test = train_test_split(X_rest, y_rest, test_size=1/3, random_state=i)\n",
    "\n",
    "    knn = KNeighborsRegressor(\n",
    "        n_neighbors=5,\n",
    "        weights='distance',\n",
    "        algorithm='auto',\n",
    "        leaf_size=20\n",
    "    ).fit(X_train, y_train)\n",
    "\n",
    "    y_pred = knn.predict(X_test)\n",
    "    rs = spearmanr(y_test, y_pred).correlation\n",
    "    mae = mean_absolute_error(y_test, y_pred)\n",
    "    r2 = r2_score(y_test, y_pred)\n",
    "\n",
    "    spearman_rs.append(rs)\n",
    "    mae_scores.append(mae)\n",
    "    r2_scores.append(r2)\n",
    "\n",
    "print(\"Average Spearman correlation (KNN):\", np.mean(spearman_rs))\n",
    "print(\"Average Mean absolute error (KNN):\", np.mean(mae_scores))\n",
    "print(\"Average R2 score (KNN):\", np.mean(r2_scores))\n",
    "\n",
    "knn_results_df = pd.DataFrame({\n",
    "    'Spearman': spearman_rs,\n",
    "    'MAE': mae_scores,\n",
    "    'R2': r2_scores\n",
    "})\n",
    "\n",
    "knn_results_df.to_csv(result_path + 'KNN.csv')"
   ]
  },
  {
   "cell_type": "markdown",
   "metadata": {},
   "source": [
    "Gaussian Process"
   ]
  },
  {
   "cell_type": "code",
   "execution_count": null,
   "metadata": {},
   "outputs": [],
   "source": [
    "from sklearn.gaussian_process import GaussianProcessRegressor\n",
    "from sklearn.gaussian_process.kernels import RBF, Matern, RationalQuadratic, ExpSineSquared, DotProduct\n",
    "\n",
    "parameters = {\n",
    "    'kernel': [RBF()],\n",
    "    'alpha': [1e-10]\n",
    "}\n",
    "\n",
    "gpr = GaussianProcessRegressor()\n",
    "gpr_cv = GridSearchCV(gpr, parameters, n_jobs=-1, verbose=2)\n",
    "gpr_cv.fit(X_cv, y_cv)\n",
    "best_params = gpr_cv.best_params_\n",
    "\n",
    "print(best_params)"
   ]
  },
  {
   "cell_type": "code",
   "execution_count": null,
   "metadata": {},
   "outputs": [],
   "source": [
    "spearman_rs = []\n",
    "mae_scores = []\n",
    "r2_scores = []\n",
    "\n",
    "X_train, X_test, y_train, y_test = train_test_split(X_rest, y_rest, test_size=1/3, random_state=42)\n",
    "\n",
    "gpr = GaussianProcessRegressor(\n",
    "    kernel=RBF(),\n",
    "    alpha=1e-10,\n",
    ").fit(X_train, y_train)\n",
    "\n",
    "y_pred = gpr.predict(X_test)\n",
    "rs = spearmanr(y_test, y_pred).correlation\n",
    "mae = mean_absolute_error(y_test, y_pred)\n",
    "r2 = r2_score(y_test, y_pred)\n",
    "\n",
    "print(mae, rs, r2)"
   ]
  }
 ],
 "metadata": {
  "kernelspec": {
   "display_name": "gnn",
   "language": "python",
   "name": "python3"
  },
  "language_info": {
   "codemirror_mode": {
    "name": "ipython",
    "version": 3
   },
   "file_extension": ".py",
   "mimetype": "text/x-python",
   "name": "python",
   "nbconvert_exporter": "python",
   "pygments_lexer": "ipython3",
   "version": "3.11.9"
  }
 },
 "nbformat": 4,
 "nbformat_minor": 2
}
