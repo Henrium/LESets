{
 "cells": [
  {
   "cell_type": "code",
   "execution_count": 1,
   "metadata": {},
   "outputs": [],
   "source": [
    "import json\n",
    "from pymatgen.core.composition import Composition\n",
    "from torch_geometric.data import Data\n",
    "import torch\n",
    "import numpy as np\n",
    "import pandas as pd\n",
    "from sklearn.preprocessing import OneHotEncoder\n",
    "\n",
    "with open('hea_full.txt', 'r') as f:\n",
    "    data = json.loads(f.read())"
   ]
  },
  {
   "cell_type": "code",
   "execution_count": 2,
   "metadata": {},
   "outputs": [],
   "source": [
    "bulk = [dp['Bulk modulus'] for dp in data]\n",
    "sws = [dp['Wigner-Seitz radius'] for dp in data]\n",
    "youngs = [dp['Youngs modulus'] for dp in data if 'Youngs modulus' in dp]"
   ]
  },
  {
   "cell_type": "code",
   "execution_count": 3,
   "metadata": {},
   "outputs": [],
   "source": [
    "elem_properties = {\n",
    "    'Element': ['Al', 'Ti', 'V', 'Cr', 'Mn', 'Fe', 'Co', 'Ni', 'Cu', 'Zr', 'Nb', 'Mo', 'Hf', 'Ta', 'W'],\n",
    "    'Group': [13, 4, 5, 6, 7, 8, 9, 10, 11, 4, 5, 6, 4, 5, 6],\n",
    "    'Period': [3, 4, 4, 4, 4, 4, 4, 4, 4, 5, 5, 5, 6, 6, 6],\n",
    "    'Mass': [26.982, 47.867, 50.942, 51.996, 54.938, 55.845, 58.933, 58.693, 63.546, 91.224, 92.906, 95.94, 178.49, 180.95, 183.84],\n",
    "    'Radius': [143.2, 144.8, 134, 128, 127, 126, 125.3, 124.6, 127.8, 159, 146, 139, 156.4, 146, 139],\n",
    "    'Electronegativity': [1.61, 1.54, 1.63, 1.66, 1.55, 1.83, 1.88, 1.91, 1.9, 1.33, 1.6, 2.16, 1.3, 1.5, 1.7],\n",
    "    'IonizationEnergy': [5.986, 6.828, 6.746, 6.767, 7.434, 7.902, 7.881, 7.640, 7.726, 6.634, 6.759, 7.092, 6.825, 7.550, 7.864],\n",
    "    'ElectronAffinity': [0.441, 0.079, 0.525, 0.666, 0, 0.163, 0.661, 1.156, 1.228, 0.426, 0.893, 0.746, 0.322, 0.322, 0.815],\n",
    "    'AtomicVolume': [10.00, 10.64, 8.35, 7.23, 7.39, 7.09, 6.70, 6.59, 7.11, 14.02, 10.84, 9.38, 13.60, 10.87, 9.47]\n",
    "}\n",
    "\n",
    "elem_properties = pd.DataFrame(elem_properties).set_index('Element')"
   ]
  },
  {
   "cell_type": "code",
   "execution_count": 4,
   "metadata": {},
   "outputs": [],
   "source": [
    "elem_properties\n",
    "group_enc = OneHotEncoder().fit(elem_properties['Group'].values.reshape(-1, 1))\n",
    "period_enc = OneHotEncoder().fit(elem_properties['Period'].values.reshape(-1, 1))\n",
    "\n",
    "elem_prop_means = elem_properties.mean()\n",
    "elem_prop_stds = elem_properties.std()"
   ]
  },
  {
   "cell_type": "code",
   "execution_count": 5,
   "metadata": {},
   "outputs": [],
   "source": [
    "elem_encodings = {el: np.append(np.concatenate([group_enc.transform(elem_properties.loc[el, 'Group'].reshape(-1, 1)).toarray()[0],\n",
    "                       period_enc.transform(elem_properties.loc[el, 'Period'].reshape(-1, 1)).toarray()[0]]),\n",
    "                       [(elem_properties.loc[el, prop]-elem_prop_means[prop])/elem_prop_stds[prop] for prop in elem_properties.columns[2:]])\n",
    "                       for el in elem_properties.index}"
   ]
  },
  {
   "cell_type": "code",
   "execution_count": 6,
   "metadata": {},
   "outputs": [
    {
     "name": "stderr",
     "output_type": "stream",
     "text": [
      "/tmp/ipykernel_901318/2916126700.py:2: UserWarning: Creating a tensor from a list of numpy.ndarrays is extremely slow. Please consider converting the list to a single numpy.ndarray with numpy.array() before converting to a tensor. (Triggered internally at /opt/conda/conda-bld/pytorch_1704987288773/work/torch/csrc/utils/tensor_new.cpp:275.)\n",
      "  return torch.tensor([elem_encodings[el] for el in elems], dtype=torch.float)\n"
     ]
    }
   ],
   "source": [
    "def get_node_features(elems):\n",
    "    return torch.tensor([elem_encodings[el] for el in elems], dtype=torch.float)\n",
    "\n",
    "# Create graphs\n",
    "def make_graphs(elements, fractions):\n",
    "    # Take element lists and fractions, convert to a list of graphs\n",
    "    graphs = []\n",
    "    for i, center in enumerate(elements):\n",
    "        # Edges are represented as a list of pairs (source, target)\n",
    "        edges = [(center, node) for node in elements if node != center]\n",
    "        # Convert edges to torch tensor\n",
    "        edge_index = torch.tensor([[elements.index(source), elements.index(target)] for source, target in edges], dtype=torch.long).t().contiguous()\n",
    "        \n",
    "        edge_attr = torch.tensor([fractions[elements.index(target)] for source, target in edges], dtype=torch.float).view(-1, 1)\n",
    "        \n",
    "        x = get_node_features(elements)\n",
    "        \n",
    "        # Create the graph data object\n",
    "        graph = Data(x=x, edge_index=edge_index, edge_attr=edge_attr, y=fractions[i])\n",
    "        \n",
    "        # Append to the list of graphs\n",
    "        graphs.append(graph)\n",
    "\n",
    "    return graphs\n",
    "\n",
    "data_bulk = []\n",
    "data_sws = []\n",
    "data_youngs = []\n",
    "\n",
    "ds_data_bulk = []\n",
    "ds_data_sws = []\n",
    "ds_data_youngs = []\n",
    "\n",
    "for i, dp in enumerate(data):\n",
    "    bm = bulk[i]\n",
    "    if bm < 0 or bm > 320:\n",
    "        continue\n",
    "    comp = Composition(dp['Composition'])\n",
    "    elements = [el.symbol for el in comp.elements]\n",
    "    fractions = [comp[el] for el in elements]\n",
    "\n",
    "    graphs = make_graphs(elements, fractions)\n",
    "    data_bulk.append((graphs, bm))\n",
    "    data_sws.append((graphs, sws[i]))\n",
    "\n",
    "    x_list = np.stack([elem_encodings[el.symbol]*comp[el] for el in comp.elements]).astype(np.float32)\n",
    "    ds_data_bulk.append((x_list, bm))\n",
    "    ds_data_sws.append((x_list, sws[i]))\n",
    "\n",
    "    if 'Youngs modulus' in dp:\n",
    "        youngs = dp['Youngs modulus']\n",
    "        if youngs < 0 or youngs > 900:\n",
    "            continue\n",
    "        data_youngs.append((graphs, youngs))\n",
    "        ds_data_youngs.append((x_list, youngs))\n"
   ]
  },
  {
   "cell_type": "code",
   "execution_count": 7,
   "metadata": {},
   "outputs": [],
   "source": [
    "import pickle\n",
    "with open('hea_bulk.pkl', 'wb') as f:\n",
    "    pickle.dump(data_bulk, f)\n",
    "\n",
    "with open('hea_sws.pkl', 'wb') as f:\n",
    "    pickle.dump(data_sws, f)\n",
    "\n",
    "with open('hea_youngs.pkl', 'wb') as f:\n",
    "    pickle.dump(data_youngs, f)"
   ]
  },
  {
   "cell_type": "code",
   "execution_count": 8,
   "metadata": {},
   "outputs": [],
   "source": [
    "with open('ds_hea_bulk.pkl', 'wb') as f:\n",
    "    pickle.dump(ds_data_bulk, f)\n",
    "\n",
    "with open('ds_hea_sws.pkl', 'wb') as f:\n",
    "    pickle.dump(ds_data_sws, f)\n",
    "\n",
    "with open('ds_hea_youngs.pkl', 'wb') as f:\n",
    "    pickle.dump(ds_data_youngs, f)"
   ]
  }
 ],
 "metadata": {
  "kernelspec": {
   "display_name": "gnn",
   "language": "python",
   "name": "python3"
  },
  "language_info": {
   "codemirror_mode": {
    "name": "ipython",
    "version": 3
   },
   "file_extension": ".py",
   "mimetype": "text/x-python",
   "name": "python",
   "nbconvert_exporter": "python",
   "pygments_lexer": "ipython3",
   "version": "3.11.9"
  }
 },
 "nbformat": 4,
 "nbformat_minor": 2
}
